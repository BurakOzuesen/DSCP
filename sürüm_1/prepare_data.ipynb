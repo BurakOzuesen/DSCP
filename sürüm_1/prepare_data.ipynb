{
 "cells": [
  {
   "cell_type": "code",
   "execution_count": 4,
   "metadata": {},
   "outputs": [],
   "source": [
    "import yfinance as yf\n",
    "import pandas as pd\n",
    "\n",
    "import warnings\n",
    "warnings.filterwarnings(\"ignore\")"
   ]
  },
  {
   "cell_type": "code",
   "execution_count": 5,
   "metadata": {},
   "outputs": [
    {
     "name": "stdout",
     "output_type": "stream",
     "text": [
      "['BEL-USD', 'BNB-USD', 'BTT-USD', 'FIL-USD', 'HOT-USD', 'ICP-USD', 'INJ-USD', 'LAZIO-USD', 'NEAR-USD', 'ONT-USD', 'REEF-USD']\n"
     ]
    }
   ],
   "source": [
    "data_file = open('coins.txt', 'r')\n",
    "\n",
    "lines = data_file.readlines()\n",
    "\n",
    "coins = [line.strip() for line in lines]\n",
    "print(coins)"
   ]
  },
  {
   "cell_type": "code",
   "execution_count": 6,
   "metadata": {},
   "outputs": [
    {
     "name": "stdout",
     "output_type": "stream",
     "text": [
      "BEL-USD done\n",
      "BNB-USD done\n",
      "BTT-USD done\n",
      "FIL-USD done\n",
      "HOT-USD done\n",
      "ICP-USD done\n",
      "INJ-USD done\n",
      "LAZIO-USD done\n",
      "NEAR-USD done\n",
      "ONT-USD done\n",
      "REEF-USD done\n"
     ]
    }
   ],
   "source": [
    "from ta import add_all_ta_features\n",
    "from ta.utils import dropna\n",
    "from random import shuffle\n",
    "import numpy as np\n",
    "from tqdm import tqdm\n",
    "\n",
    "LOOKBACK = 10\n",
    "FEATURE_NUMBER = 5\n",
    "complete_data = pd.DataFrame()\n",
    "\n",
    "for coin in coins:\n",
    "    coin_df = pd.read_csv(f\"data/roc_data/{coin}.csv\")\n",
    "    columns = np.delete(coin_df.columns, [0, 4])\n",
    "    target = \"Close\"\n",
    "    new_df = coin_df[columns].sample(n=FEATURE_NUMBER, axis='columns')\n",
    "    # print(coin_df[\"Close\"])\n",
    "    # print(coin_df.columns)\n",
    "    # print(new_df.columns)\n",
    "    # print(coin_df.columns[0:5])\n",
    "    # print(coin_df[\"Close\"].head())\n",
    "    new_df[\"Close\"] = coin_df[\"Close\"]\n",
    "    # print(new_df)\n",
    "    for index, row in new_df.iterrows():\n",
    "        try:\n",
    "            tmp_df = new_df.iloc[index:index+LOOKBACK,:]\n",
    "            tmp_X = tmp_df.iloc[:,:FEATURE_NUMBER]\n",
    "            tmp_y = new_df.iloc[index+LOOKBACK,-1]\n",
    "            tmp_X = tmp_X.to_numpy().flatten()\n",
    "            tmp_X = pd.Series(tmp_X)\n",
    "            tmp_y = pd.Series(tmp_y)\n",
    "            tmp_var = tmp_X.append(tmp_y, ignore_index=True)\n",
    "            tmp_var = tmp_var.values.reshape(1, len(tmp_var.values))\n",
    "            tmp_var = pd.DataFrame(tmp_var)\n",
    "            complete_data = complete_data.append(tmp_var, ignore_index=True)\n",
    "            # print(complete_data.shape)\n",
    "        except:\n",
    "            continue\n",
    "    # print(\"Shape is: \", complete_data.shape)\n",
    "    print(coin, \"done\")\n",
    "\n",
    "    # print()\n",
    "    \n",
    "complete_data.to_csv(\"data/all_data.csv\")"
   ]
  }
 ],
 "metadata": {
  "interpreter": {
   "hash": "410307664c3b7ae8cf4ec4c8c111266d5283fec415142dc2cbd04795b4f02a6d"
  },
  "kernelspec": {
   "display_name": "Python 3.8.5 64-bit (system)",
   "language": "python",
   "name": "python3"
  },
  "language_info": {
   "codemirror_mode": {
    "name": "ipython",
    "version": 3
   },
   "file_extension": ".py",
   "mimetype": "text/x-python",
   "name": "python",
   "nbconvert_exporter": "python",
   "pygments_lexer": "ipython3",
   "version": "3.8.5"
  },
  "orig_nbformat": 4
 },
 "nbformat": 4,
 "nbformat_minor": 2
}
