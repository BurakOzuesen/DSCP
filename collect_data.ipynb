{
 "cells": [
  {
   "cell_type": "code",
   "execution_count": 10,
   "metadata": {},
   "outputs": [],
   "source": [
    "import yfinance as yf\n",
    "import pandas as pd\n",
    "\n",
    "import warnings\n",
    "warnings.filterwarnings(\"ignore\")"
   ]
  },
  {
   "cell_type": "markdown",
   "metadata": {},
   "source": [
    "Hiperparametreler\n",
    "\n",
    "alınan verilerin frekansı, şu anda günlük çekilmiş durumdalar\\\n",
    "add_all_ta_features fonksiyonunda fillna parametresi true/false\\\n",
    "sütunlar normalize edilip indikatörler hesaplanıyor ilk satır düşürülüyor\\\n",
    "lookback miktarı\\\n",
    "seçilen featureler"
   ]
  },
  {
   "cell_type": "code",
   "execution_count": 11,
   "metadata": {},
   "outputs": [
    {
     "name": "stdout",
     "output_type": "stream",
     "text": [
      "['BEL-USD', 'BNB-USD', 'BTT-USD', 'FIL-USD', 'HOT-USD', 'ICP-USD', 'INJ-USD', 'LAZIO-USD', 'NEAR-USD', 'ONT-USD', 'REEF-USD']\n"
     ]
    }
   ],
   "source": [
    "data_file = open('coins.txt', 'r')\n",
    "\n",
    "lines = data_file.readlines()\n",
    "\n",
    "coins = [line.strip() for line in lines]\n",
    "print(coins)"
   ]
  },
  {
   "cell_type": "code",
   "execution_count": 12,
   "metadata": {},
   "outputs": [
    {
     "name": "stdout",
     "output_type": "stream",
     "text": [
      "[*********************100%***********************]  1 of 1 completed\n",
      "[*********************100%***********************]  1 of 1 completed\n",
      "[*********************100%***********************]  1 of 1 completed\n",
      "[*********************100%***********************]  1 of 1 completed\n",
      "[*********************100%***********************]  1 of 1 completed\n",
      "[*********************100%***********************]  1 of 1 completed\n",
      "[*********************100%***********************]  1 of 1 completed\n",
      "[*********************100%***********************]  1 of 1 completed\n",
      "[*********************100%***********************]  1 of 1 completed\n",
      "[*********************100%***********************]  1 of 1 completed\n",
      "[*********************100%***********************]  1 of 1 completed\n"
     ]
    }
   ],
   "source": [
    "from ta import add_all_ta_features\n",
    "from ta.utils import dropna\n",
    "import numpy as np\n",
    "\n",
    "for coin in coins:\n",
    "    coin_data = eval(\"yf.download(tickers={coin}, period='max')\").drop(\"Adj Close\", axis=1)\n",
    "    for column in coin_data.columns:\n",
    "        old = np.nan\n",
    "        for row in coin_data.index:\n",
    "            next = coin_data[column][row]\n",
    "            coin_data[column][row] = next/old\n",
    "            old = next\n",
    "    coin_data = add_all_ta_features(coin_data, \"Open\", \"High\", \"Low\", \"Close\", \"Volume\", fillna=True)   # eğer fill na false olursa Nan değerlerle ilgilenilmesi gerek\n",
    "    coin_data = coin_data.iloc[1:,:]\n",
    "    eval(f'coin_data.to_csv(\"data/{coin}.csv\")')"
   ]
  }
 ],
 "metadata": {
  "interpreter": {
   "hash": "410307664c3b7ae8cf4ec4c8c111266d5283fec415142dc2cbd04795b4f02a6d"
  },
  "kernelspec": {
   "display_name": "Python 3.8.5 64-bit (system)",
   "language": "python",
   "name": "python3"
  },
  "language_info": {
   "codemirror_mode": {
    "name": "ipython",
    "version": 3
   },
   "file_extension": ".py",
   "mimetype": "text/x-python",
   "name": "python",
   "nbconvert_exporter": "python",
   "pygments_lexer": "ipython3",
   "version": "3.8.5"
  },
  "orig_nbformat": 4
 },
 "nbformat": 4,
 "nbformat_minor": 2
}
